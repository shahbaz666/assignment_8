{
 "cells": [
  {
   "cell_type": "code",
   "execution_count": 4,
   "metadata": {},
   "outputs": [],
   "source": [
    "def uci_ml_repos():\n",
    "    #importing necessary modules\n",
    "    import selenium\n",
    "    from selenium import webdriver as wb\n",
    "    import pandas as pd\n",
    "\n",
    "    webD = wb.Chrome('chromedriver.exe')\n",
    "    webD.get('https://archive.ics.uci.edu')\n",
    "    #click on all datasets\n",
    "    webD.find_element_by_xpath('/html/body/table[1]/tbody/tr/td[2]/span[2]/a').click()\n",
    "    #initializing lists for storing data\n",
    "    names = []\n",
    "    data_types = []\n",
    "    tasks = []\n",
    "    attr_types = []\n",
    "    no_of_instances = []\n",
    "    no_of_attrs = []\n",
    "    years = []\n",
    "    #finding all the row elements of the table\n",
    "    rows = webD.find_element_by_xpath('/html/body/table[2]/tbody/tr/td[2]/table[2]/tbody').find_elements_by_tag_name('tr')\n",
    "    # looping through all the row and extracting data\n",
    "    for row in rows:\n",
    "        if len(row.find_elements_by_tag_name('table'))>0:\n",
    "            name = row.find_elements_by_tag_name('td')[0].text.strip()\n",
    "            data_type = row.find_elements_by_tag_name('td')[3].text.strip()\n",
    "            task = row.find_elements_by_tag_name('td')[4].text.strip()\n",
    "            attr_type = row.find_elements_by_tag_name('td')[5].text.strip()\n",
    "            no_of_instance = row.find_elements_by_tag_name('td')[6].text.strip()\n",
    "            no_of_attr = row.find_elements_by_tag_name('td')[7].text.strip()\n",
    "            year = row.find_elements_by_tag_name('td')[8].text.strip()\n",
    "            names.append(name)\n",
    "            data_types.append(data_type)\n",
    "            tasks.append(task)\n",
    "            attr_types.append(attr_type)\n",
    "            no_of_instances.append(no_of_instance)\n",
    "            no_of_attrs.append(no_of_attr)\n",
    "            years.append(year)\n",
    "        else:\n",
    "            continue    \n",
    "    webD.close()\n",
    "    ds = pd.DataFrame({'Name':names,'Data Type':data_types,'Task':tasks,'Attribute Type(s)':attr_types,'No. Of Instances':no_of_instances,'No Of Attribtes':no_of_attrs,'Year':years})\n",
    "    return ds"
   ]
  },
  {
   "cell_type": "code",
   "execution_count": 5,
   "metadata": {},
   "outputs": [
    {
     "name": "stdout",
     "output_type": "stream",
     "text": [
      "                                                  Name     Data Type  \\\n",
      "0                                              Abalone  Multivariate   \n",
      "1                                                Adult  Multivariate   \n",
      "2                                            Annealing  Multivariate   \n",
      "3                         Anonymous Microsoft Web Data                 \n",
      "4                                           Arrhythmia  Multivariate   \n",
      "..                                                 ...           ...   \n",
      "554          IIWA14-R820-Gazebo-Dataset-10Trajectories                 \n",
      "555                     Guitar Chords finger positions          Text   \n",
      "556               Russian Corpus of Biographical Texts          Text   \n",
      "557                                        Codon usage  Multivariate   \n",
      "558  Intelligent Media Accelerometer and Gyroscope ...   Time-Series   \n",
      "\n",
      "                           Task           Attribute Type(s) No. Of Instances  \\\n",
      "0                Classification  Categorical, Integer, Real             4177   \n",
      "1                Classification        Categorical, Integer            48842   \n",
      "2                Classification  Categorical, Integer, Real              798   \n",
      "3           Recommender-Systems                 Categorical            37711   \n",
      "4                Classification  Categorical, Integer, Real              452   \n",
      "..                          ...                         ...              ...   \n",
      "554                  Regression                     Integer                    \n",
      "555              Classification                                         2633   \n",
      "556              Classification                                          200   \n",
      "557  Classification, Clustering                                        13028   \n",
      "558              Classification                        Real              800   \n",
      "\n",
      "    No Of Attribtes  Year  \n",
      "0                 8  1995  \n",
      "1                14  1996  \n",
      "2                38        \n",
      "3               294  1998  \n",
      "4               279  1998  \n",
      "..              ...   ...  \n",
      "554                  2020  \n",
      "555               5  2020  \n",
      "556               2  2020  \n",
      "557              69  2020  \n",
      "558               9  2020  \n",
      "\n",
      "[559 rows x 7 columns]\n"
     ]
    }
   ],
   "source": [
    "print(uci_ml_repos())"
   ]
  },
  {
   "cell_type": "code",
   "execution_count": null,
   "metadata": {},
   "outputs": [],
   "source": []
  }
 ],
 "metadata": {
  "kernelspec": {
   "display_name": "Python 3",
   "language": "python",
   "name": "python3"
  },
  "language_info": {
   "codemirror_mode": {
    "name": "ipython",
    "version": 3
   },
   "file_extension": ".py",
   "mimetype": "text/x-python",
   "name": "python",
   "nbconvert_exporter": "python",
   "pygments_lexer": "ipython3",
   "version": "3.7.6"
  }
 },
 "nbformat": 4,
 "nbformat_minor": 4
}
