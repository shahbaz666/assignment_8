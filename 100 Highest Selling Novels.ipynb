{
 "cells": [
  {
   "cell_type": "code",
   "execution_count": 10,
   "metadata": {},
   "outputs": [],
   "source": [
    "def top_selling_novels():\n",
    "    #importing necessary modules\n",
    "    import selenium\n",
    "    from selenium import webdriver as wb\n",
    "    import pandas as pd\n",
    "\n",
    "    webD = wb.Chrome('chromedriver.exe')\n",
    "    webD.get('https://www.theguardian.com/news/datablog/2012/aug/09/best-selling-books-all-time-fifty-shades-grey-compare')\n",
    "    rows = webD.find_element_by_tag_name('tbody').find_elements_by_tag_name('tr')#finding all the row elements of the table\n",
    "    #initializing lists for storing data\n",
    "    titles = []\n",
    "    authors = []\n",
    "    volumes_sales = []\n",
    "    publishers = []\n",
    "    genres = []\n",
    "    # looping through all the row and extracting data\n",
    "    for row in rows:\n",
    "        title = row.find_elements_by_tag_name('td')[1].text\n",
    "        author = row.find_elements_by_tag_name('td')[2].text\n",
    "        volume_sales = row.find_elements_by_tag_name('td')[3].text\n",
    "        publisher = row.find_elements_by_tag_name('td')[4].text\n",
    "        genre = row.find_elements_by_tag_name('td')[5].text\n",
    "        titles.append(title)\n",
    "        authors.append(author)\n",
    "        volumes_sales.append(volume_sales)\n",
    "        publishers.append(publisher)\n",
    "        genres.append(genre)\n",
    "    webD.close()\n",
    "    #saving the results in a dataframe\n",
    "    books = pd.DataFrame({'Title':titles,'Author':authors,'Volume Sales':volumes_sales,'Publisher':publishers,'Genre':genres})\n",
    "    return books"
   ]
  },
  {
   "cell_type": "code",
   "execution_count": 11,
   "metadata": {},
   "outputs": [
    {
     "name": "stdout",
     "output_type": "stream",
     "text": [
      "                                                Title            Author  \\\n",
      "0                                   Da Vinci Code,The        Brown, Dan   \n",
      "1                Harry Potter and the Deathly Hallows     Rowling, J.K.   \n",
      "2            Harry Potter and the Philosopher's Stone     Rowling, J.K.   \n",
      "3           Harry Potter and the Order of the Phoenix     Rowling, J.K.   \n",
      "4                                Fifty Shades of Grey      James, E. L.   \n",
      "..                                                ...               ...   \n",
      "95                                          Ghost,The    Harris, Robert   \n",
      "96                     Happy Days with the Naked Chef     Oliver, Jamie   \n",
      "97              Hunger Games,The:Hunger Games Trilogy  Collins, Suzanne   \n",
      "98  Lost Boy,The:A Foster Child's Search for the L...      Pelzer, Dave   \n",
      "99  Jamie's Ministry of Food:Anyone Can Learn to C...     Oliver, Jamie   \n",
      "\n",
      "   Volume Sales        Publisher                        Genre  \n",
      "0     5,094,805       Transworld  Crime, Thriller & Adventure  \n",
      "1     4,475,152       Bloomsbury           Children's Fiction  \n",
      "2     4,200,654       Bloomsbury           Children's Fiction  \n",
      "3     4,179,479       Bloomsbury           Children's Fiction  \n",
      "4     3,758,936     Random House              Romance & Sagas  \n",
      "..          ...              ...                          ...  \n",
      "95      807,311     Random House   General & Literary Fiction  \n",
      "96      794,201          Penguin        Food & Drink: General  \n",
      "97      792,187  Scholastic Ltd.          Young Adult Fiction  \n",
      "98      791,507            Orion           Biography: General  \n",
      "99      791,095          Penguin        Food & Drink: General  \n",
      "\n",
      "[100 rows x 5 columns]\n"
     ]
    }
   ],
   "source": [
    "print(top_selling_novels())"
   ]
  },
  {
   "cell_type": "code",
   "execution_count": 5,
   "metadata": {},
   "outputs": [],
   "source": []
  }
 ],
 "metadata": {
  "kernelspec": {
   "display_name": "Python 3",
   "language": "python",
   "name": "python3"
  },
  "language_info": {
   "codemirror_mode": {
    "name": "ipython",
    "version": 3
   },
   "file_extension": ".py",
   "mimetype": "text/x-python",
   "name": "python",
   "nbconvert_exporter": "python",
   "pygments_lexer": "ipython3",
   "version": "3.7.6"
  }
 },
 "nbformat": 4,
 "nbformat_minor": 4
}
