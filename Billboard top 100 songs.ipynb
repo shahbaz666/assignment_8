{
 "cells": [
  {
   "cell_type": "code",
   "execution_count": 1,
   "metadata": {},
   "outputs": [],
   "source": [
    "def billboard_top_100():\n",
    "    #importing necessary modules\n",
    "    import selenium\n",
    "    from selenium import webdriver as wb\n",
    "    import pandas as pd\n",
    "    import time\n",
    "    \n",
    "    webD = wb.Chrome('chromedriver.exe')\n",
    "    webD.get('https://www.billboard.com/')\n",
    "    #clicking on the hot 100 chart link\n",
    "    webD.find_element_by_xpath('//*[@id=\"main-content\"]/div[2]/div/div/div[2]/div[2]/a/span[1]').click()\n",
    "    time.sleep(5)#time for browser to load new page\n",
    "     #initializing lists for storing data\n",
    "    names = []\n",
    "    artists = []\n",
    "    last_week_ranks = []\n",
    "    peak_ranks = []\n",
    "    weeks_on_charts = []\n",
    "    #finding all the row elements of the table\n",
    "    results = webD.find_element_by_class_name('chart-list__elements').find_elements_by_tag_name('li')\n",
    "    # looping through all the row and extracting data\n",
    "    for result in results:\n",
    "        #table rows also contain ads\n",
    "        if len(result.text)==0:#the ads don't have any text elements in them\n",
    "            continue\n",
    "        #Re-entering/New songs have different html row structure\n",
    "        if result.find_elements_by_tag_name('span')[2].text=='Re-Enter' or result.find_elements_by_tag_name('span')[2].text=='New':\n",
    "            name = result.find_elements_by_tag_name('span')[4].text\n",
    "            artist = result.find_elements_by_tag_name('span')[5].text\n",
    "        else:\n",
    "            name = result.find_elements_by_tag_name('span')[4].find_elements_by_tag_name('span')[0].text\n",
    "            artist = result.find_elements_by_tag_name('span')[4].find_elements_by_tag_name('span')[1].text\n",
    "        last_week_rank = result.find_elements_by_tag_name('div')[-3].text\n",
    "        peak_rank = result.find_elements_by_tag_name('div')[-2].text\n",
    "        weeks_on_chart = result.find_elements_by_tag_name('div')[-1].text\n",
    "        names.append(name)\n",
    "        artists.append(artist)\n",
    "        last_week_ranks.append(last_week_rank)\n",
    "        peak_ranks.append(peak_rank)\n",
    "        weeks_on_charts.append(weeks_on_chart)\n",
    "    webD.close()\n",
    "    songs = pd.DataFrame({'Title':names,'Artist':artists,'Last Week Rank':last_week_ranks,'Peak Rank':peak_ranks,'Weeks On Charts':weeks_on_charts})\n",
    "    return songs"
   ]
  },
  {
   "cell_type": "code",
   "execution_count": 2,
   "metadata": {},
   "outputs": [
    {
     "name": "stdout",
     "output_type": "stream",
     "text": [
      "           Title                                Artist Last Week Rank  \\\n",
      "0   Life Goes On                                   BTS              -   \n",
      "1           Mood          24kGoldn Featuring iann dior              1   \n",
      "2       Dynamite                                   BTS             14   \n",
      "3      Positions                         Ariana Grande              3   \n",
      "4         I Hope  Gabby Barrett Featuring Charlie Puth              4   \n",
      "..           ...                                   ...            ...   \n",
      "95       Popstar             DJ Khaled Featuring Drake             83   \n",
      "96       Bichota                               Karol G              -   \n",
      "97    Happy Does                         Kenny Chesney             90   \n",
      "98   Cover Me Up                         Morgan Wallen              -   \n",
      "99       So Done                         The Kid LAROI             75   \n",
      "\n",
      "   Peak Rank Weeks On Charts  \n",
      "0          1               1  \n",
      "1          1              16  \n",
      "2          1              14  \n",
      "3          1               5  \n",
      "4          3              48  \n",
      "..       ...             ...  \n",
      "95         3              19  \n",
      "96        97               1  \n",
      "97        85               6  \n",
      "98        99               1  \n",
      "99        59               5  \n",
      "\n",
      "[100 rows x 5 columns]\n"
     ]
    }
   ],
   "source": [
    "print(billboard_top_100())"
   ]
  },
  {
   "cell_type": "code",
   "execution_count": null,
   "metadata": {},
   "outputs": [],
   "source": []
  }
 ],
 "metadata": {
  "kernelspec": {
   "display_name": "Python 3",
   "language": "python",
   "name": "python3"
  },
  "language_info": {
   "codemirror_mode": {
    "name": "ipython",
    "version": 3
   },
   "file_extension": ".py",
   "mimetype": "text/x-python",
   "name": "python",
   "nbconvert_exporter": "python",
   "pygments_lexer": "ipython3",
   "version": "3.7.6"
  }
 },
 "nbformat": 4,
 "nbformat_minor": 4
}
