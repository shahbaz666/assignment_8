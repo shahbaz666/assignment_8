{
 "cells": [
  {
   "cell_type": "code",
   "execution_count": 5,
   "metadata": {},
   "outputs": [],
   "source": [
    "def imdb_top100_tvseries():\n",
    "    #importing necessary modules\n",
    "    import selenium\n",
    "    from selenium import webdriver as wb\n",
    "    import pandas as pd\n",
    "\n",
    "    webD = wb.Chrome('chromedriver.exe')\n",
    "    webD.get('https://www.imdb.com/list/ls095964455/')\n",
    "    #initializing lists for storing data\n",
    "    names = []\n",
    "    year_spans = []\n",
    "    genres = []\n",
    "    run_times = []\n",
    "    ratings = []\n",
    "    votess = []\n",
    "    #finding all the result elements of the table\n",
    "    results = webD.find_elements_by_class_name('lister-item-content')\n",
    "    # looping through all the row and extracting data\n",
    "    for result in results:\n",
    "        name = result.find_element_by_tag_name('a').text\n",
    "        year_span = result.find_elements_by_tag_name('span')[1].text\n",
    "        genre = result.find_elements_by_tag_name('p')[0].find_elements_by_tag_name('span')[-1].text\n",
    "        run_time = result.find_elements_by_tag_name('p')[0].find_elements_by_tag_name('span')[-3].text\n",
    "        rating = result.find_elements_by_tag_name('div')[0].find_elements_by_tag_name('span')[1].text\n",
    "        votes = result.find_elements_by_tag_name('p')[-1].find_elements_by_tag_name('span')[-1].text\n",
    "        names.append(name)\n",
    "        year_spans.append(year_span)\n",
    "        genres.append(genre)\n",
    "        run_times.append(run_time)\n",
    "        ratings.append(rating)\n",
    "        votess.append(votes)\n",
    "    webD.close()\n",
    "    tv_shows = pd.DataFrame({'Title':names,'Year Span':year_spans,'Genre':genres,'Run Time':run_times,'Rating':ratings,'Votes':votess})\n",
    "    return tv_shows"
   ]
  },
  {
   "cell_type": "code",
   "execution_count": 6,
   "metadata": {},
   "outputs": [
    {
     "name": "stdout",
     "output_type": "stream",
     "text": [
      "                             Title    Year Span                     Genre  \\\n",
      "0                  Game of Thrones  (2011–2019)  Action, Adventure, Drama   \n",
      "1                  Stranger Things     (2016– )    Drama, Fantasy, Horror   \n",
      "2                 The Walking Dead     (2010– )   Drama, Horror, Thriller   \n",
      "3                   13 Reasons Why  (2017–2020)  Drama, Mystery, Thriller   \n",
      "4                          The 100  (2014–2020)    Drama, Mystery, Sci-Fi   \n",
      "..                             ...          ...                       ...   \n",
      "95                           Reign  (2013–2017)            Drama, Fantasy   \n",
      "96  A Series of Unfortunate Events  (2017–2019)  Adventure, Comedy, Drama   \n",
      "97                  Criminal Minds  (2005–2020)     Crime, Drama, Mystery   \n",
      "98           Scream: The TV Series     (2015– )      Crime, Drama, Horror   \n",
      "99      The Haunting of Hill House       (2018)    Drama, Horror, Mystery   \n",
      "\n",
      "   Run Time Rating      Votes  \n",
      "0    57 min    9.3  1,733,987  \n",
      "1    51 min    8.8    793,300  \n",
      "2    44 min    8.2    841,236  \n",
      "3    60 min    7.6    251,800  \n",
      "4    43 min    7.6    210,771  \n",
      "..      ...    ...        ...  \n",
      "95   42 min    7.5     42,836  \n",
      "96   50 min    7.8     52,971  \n",
      "97   42 min    8.1    157,067  \n",
      "98   45 min    7.2     33,610  \n",
      "99  572 min    8.6    175,345  \n",
      "\n",
      "[100 rows x 6 columns]\n"
     ]
    }
   ],
   "source": [
    "print(imdb_top100_tvseries())"
   ]
  },
  {
   "cell_type": "code",
   "execution_count": null,
   "metadata": {},
   "outputs": [],
   "source": []
  }
 ],
 "metadata": {
  "kernelspec": {
   "display_name": "Python 3",
   "language": "python",
   "name": "python3"
  },
  "language_info": {
   "codemirror_mode": {
    "name": "ipython",
    "version": 3
   },
   "file_extension": ".py",
   "mimetype": "text/x-python",
   "name": "python",
   "nbconvert_exporter": "python",
   "pygments_lexer": "ipython3",
   "version": "3.7.6"
  }
 },
 "nbformat": 4,
 "nbformat_minor": 4
}
